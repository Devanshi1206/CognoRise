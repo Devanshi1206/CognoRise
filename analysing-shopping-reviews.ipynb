{
 "cells": [
  {
   "cell_type": "markdown",
   "metadata": {},
   "source": [
    "## Analyse Shopping Reviews"
   ]
  },
  {
   "cell_type": "code",
   "execution_count": 1,
   "metadata": {
    "execution": {
     "iopub.execute_input": "2024-07-19T10:34:50.247182Z",
     "iopub.status.busy": "2024-07-19T10:34:50.246722Z",
     "iopub.status.idle": "2024-07-19T10:34:54.419127Z",
     "shell.execute_reply": "2024-07-19T10:34:54.417460Z",
     "shell.execute_reply.started": "2024-07-19T10:34:50.247139Z"
    }
   },
   "outputs": [],
   "source": [
    "import pandas as pd\n",
    "import numpy as np\n",
    "import seaborn as sns\n",
    "import matplotlib.pyplot as plt\n",
    "\n",
    "from sklearn.feature_extraction.text import TfidfVectorizer\n",
    "from sklearn.model_selection import train_test_split\n",
    "from sklearn.feature_extraction.text import TfidfVectorizer\n",
    "from sklearn.naive_bayes import MultinomialNB\n",
    "from sklearn.linear_model import LogisticRegression\n",
    "from sklearn.svm import SVC, LinearSVC\n",
    "from sklearn.metrics import confusion_matrix, classification_report\n",
    "from sklearn.pipeline import Pipeline\n",
    "from sklearn.metrics import precision_score\n",
    "from sklearn.metrics import accuracy_score\n",
    "from sklearn.metrics import recall_score"
   ]
  },
  {
   "cell_type": "markdown",
   "metadata": {},
   "source": [
    "## Importing Data"
   ]
  },
  {
   "cell_type": "code",
   "execution_count": 2,
   "metadata": {
    "execution": {
     "iopub.execute_input": "2024-07-19T10:34:54.422460Z",
     "iopub.status.busy": "2024-07-19T10:34:54.421493Z",
     "iopub.status.idle": "2024-07-19T10:34:56.680363Z",
     "shell.execute_reply": "2024-07-19T10:34:56.678897Z",
     "shell.execute_reply.started": "2024-07-19T10:34:54.422407Z"
    }
   },
   "outputs": [
    {
     "data": {
      "text/html": [
       "<div>\n",
       "<style scoped>\n",
       "    .dataframe tbody tr th:only-of-type {\n",
       "        vertical-align: middle;\n",
       "    }\n",
       "\n",
       "    .dataframe tbody tr th {\n",
       "        vertical-align: top;\n",
       "    }\n",
       "\n",
       "    .dataframe thead th {\n",
       "        text-align: right;\n",
       "    }\n",
       "</style>\n",
       "<table border=\"1\" class=\"dataframe\">\n",
       "  <thead>\n",
       "    <tr style=\"text-align: right;\">\n",
       "      <th></th>\n",
       "      <th>ï»¿reviewer_id</th>\n",
       "      <th>store_location</th>\n",
       "      <th>latitude</th>\n",
       "      <th>longitude</th>\n",
       "      <th>date</th>\n",
       "      <th>month</th>\n",
       "      <th>year</th>\n",
       "      <th>title</th>\n",
       "      <th>review</th>\n",
       "      <th>review-label</th>\n",
       "    </tr>\n",
       "  </thead>\n",
       "  <tbody>\n",
       "    <tr>\n",
       "      <th>0</th>\n",
       "      <td>0.0</td>\n",
       "      <td>US</td>\n",
       "      <td>37.090240</td>\n",
       "      <td>-95.712891</td>\n",
       "      <td>2023</td>\n",
       "      <td>6</td>\n",
       "      <td>2015 00:00:00</td>\n",
       "      <td>Great help with lost order</td>\n",
       "      <td>I had an order that was lost in transit. When ...</td>\n",
       "      <td>5</td>\n",
       "    </tr>\n",
       "    <tr>\n",
       "      <th>1</th>\n",
       "      <td>1.0</td>\n",
       "      <td>US</td>\n",
       "      <td>37.090240</td>\n",
       "      <td>-95.712891</td>\n",
       "      <td>2023</td>\n",
       "      <td>6</td>\n",
       "      <td>2024 00:00:00</td>\n",
       "      <td>I ordered the wrong size tee and hadÃ¯Â¿Â½Ã¯Â¿...</td>\n",
       "      <td>I ordered the wrong size tee and had difficult...</td>\n",
       "      <td>5</td>\n",
       "    </tr>\n",
       "    <tr>\n",
       "      <th>2</th>\n",
       "      <td>2.0</td>\n",
       "      <td>US</td>\n",
       "      <td>37.090240</td>\n",
       "      <td>-95.712891</td>\n",
       "      <td>2023</td>\n",
       "      <td>6</td>\n",
       "      <td>2017 00:00:00</td>\n",
       "      <td>These guys offer the best customerÃ¯Â¿Â½Ã¯Â¿Â½...</td>\n",
       "      <td>These guys offer the best customer service in ...</td>\n",
       "      <td>5</td>\n",
       "    </tr>\n",
       "    <tr>\n",
       "      <th>3</th>\n",
       "      <td>3.0</td>\n",
       "      <td>US</td>\n",
       "      <td>37.090240</td>\n",
       "      <td>-95.712891</td>\n",
       "      <td>2023</td>\n",
       "      <td>6</td>\n",
       "      <td>2024 00:00:00</td>\n",
       "      <td>Good Stuff</td>\n",
       "      <td>Looked for an obscure phrase on a shirt. Teepu...</td>\n",
       "      <td>5</td>\n",
       "    </tr>\n",
       "    <tr>\n",
       "      <th>4</th>\n",
       "      <td>4.0</td>\n",
       "      <td>CA</td>\n",
       "      <td>56.130366</td>\n",
       "      <td>-106.346771</td>\n",
       "      <td>2023</td>\n",
       "      <td>6</td>\n",
       "      <td>2023 00:00:00</td>\n",
       "      <td>My order arrived in a good timelyÃ¯Â¿Â½Ã¯Â¿Â½Ã...</td>\n",
       "      <td>My order arrived in a good timely fashion &amp; th...</td>\n",
       "      <td>4</td>\n",
       "    </tr>\n",
       "  </tbody>\n",
       "</table>\n",
       "</div>"
      ],
      "text/plain": [
       "   ï»¿reviewer_id store_location   latitude   longitude  date  month  \\\n",
       "0             0.0             US  37.090240  -95.712891  2023      6   \n",
       "1             1.0             US  37.090240  -95.712891  2023      6   \n",
       "2             2.0             US  37.090240  -95.712891  2023      6   \n",
       "3             3.0             US  37.090240  -95.712891  2023      6   \n",
       "4             4.0             CA  56.130366 -106.346771  2023      6   \n",
       "\n",
       "            year                                              title  \\\n",
       "0  2015 00:00:00                         Great help with lost order   \n",
       "1  2024 00:00:00  I ordered the wrong size tee and hadÃ¯Â¿Â½Ã¯Â¿...   \n",
       "2  2017 00:00:00  These guys offer the best customerÃ¯Â¿Â½Ã¯Â¿Â½...   \n",
       "3  2024 00:00:00                                         Good Stuff   \n",
       "4  2023 00:00:00  My order arrived in a good timelyÃ¯Â¿Â½Ã¯Â¿Â½Ã...   \n",
       "\n",
       "                                              review  review-label  \n",
       "0  I had an order that was lost in transit. When ...             5  \n",
       "1  I ordered the wrong size tee and had difficult...             5  \n",
       "2  These guys offer the best customer service in ...             5  \n",
       "3  Looked for an obscure phrase on a shirt. Teepu...             5  \n",
       "4  My order arrived in a good timely fashion & th...             4  "
      ]
     },
     "execution_count": 2,
     "metadata": {},
     "output_type": "execute_result"
    }
   ],
   "source": [
    "# path = '/kaggle/input/shoppersentiments/TeePublic_review.csv'\n",
    "df = pd.read_csv(\"Data.csv\", encoding='latin-1')\n",
    "df.head()"
   ]
  },
  {
   "cell_type": "code",
   "execution_count": 3,
   "metadata": {
    "execution": {
     "iopub.execute_input": "2024-07-19T10:34:56.683115Z",
     "iopub.status.busy": "2024-07-19T10:34:56.682532Z",
     "iopub.status.idle": "2024-07-19T10:34:56.713853Z",
     "shell.execute_reply": "2024-07-19T10:34:56.712295Z",
     "shell.execute_reply.started": "2024-07-19T10:34:56.683064Z"
    }
   },
   "outputs": [
    {
     "data": {
      "text/html": [
       "<div>\n",
       "<style scoped>\n",
       "    .dataframe tbody tr th:only-of-type {\n",
       "        vertical-align: middle;\n",
       "    }\n",
       "\n",
       "    .dataframe tbody tr th {\n",
       "        vertical-align: top;\n",
       "    }\n",
       "\n",
       "    .dataframe thead th {\n",
       "        text-align: right;\n",
       "    }\n",
       "</style>\n",
       "<table border=\"1\" class=\"dataframe\">\n",
       "  <thead>\n",
       "    <tr style=\"text-align: right;\">\n",
       "      <th></th>\n",
       "      <th>title</th>\n",
       "    </tr>\n",
       "  </thead>\n",
       "  <tbody>\n",
       "    <tr>\n",
       "      <th>0</th>\n",
       "      <td>Great help with lost order</td>\n",
       "    </tr>\n",
       "    <tr>\n",
       "      <th>1</th>\n",
       "      <td>I ordered the wrong size tee and hadÃ¯Â¿Â½Ã¯Â¿...</td>\n",
       "    </tr>\n",
       "    <tr>\n",
       "      <th>2</th>\n",
       "      <td>These guys offer the best customerÃ¯Â¿Â½Ã¯Â¿Â½...</td>\n",
       "    </tr>\n",
       "    <tr>\n",
       "      <th>3</th>\n",
       "      <td>Good Stuff</td>\n",
       "    </tr>\n",
       "  </tbody>\n",
       "</table>\n",
       "</div>"
      ],
      "text/plain": [
       "                                               title\n",
       "0                         Great help with lost order\n",
       "1  I ordered the wrong size tee and hadÃ¯Â¿Â½Ã¯Â¿...\n",
       "2  These guys offer the best customerÃ¯Â¿Â½Ã¯Â¿Â½...\n",
       "3                                         Good Stuff"
      ]
     },
     "execution_count": 3,
     "metadata": {},
     "output_type": "execute_result"
    }
   ],
   "source": [
    "df[['title']].head(4)"
   ]
  },
  {
   "cell_type": "code",
   "execution_count": 4,
   "metadata": {
    "execution": {
     "iopub.execute_input": "2024-07-19T10:34:56.718427Z",
     "iopub.status.busy": "2024-07-19T10:34:56.717940Z",
     "iopub.status.idle": "2024-07-19T10:34:56.835269Z",
     "shell.execute_reply": "2024-07-19T10:34:56.833848Z",
     "shell.execute_reply.started": "2024-07-19T10:34:56.718372Z"
    }
   },
   "outputs": [
    {
     "data": {
      "text/plain": [
       "review    30503\n",
       "dtype: int64"
      ]
     },
     "execution_count": 4,
     "metadata": {},
     "output_type": "execute_result"
    }
   ],
   "source": [
    "(df[['title']].isnull().sum())\n",
    "(df[['review']].isnull().sum())"
   ]
  },
  {
   "cell_type": "code",
   "execution_count": 5,
   "metadata": {
    "execution": {
     "iopub.execute_input": "2024-07-19T10:34:56.837515Z",
     "iopub.status.busy": "2024-07-19T10:34:56.837112Z",
     "iopub.status.idle": "2024-07-19T10:34:56.878753Z",
     "shell.execute_reply": "2024-07-19T10:34:56.877158Z",
     "shell.execute_reply.started": "2024-07-19T10:34:56.837484Z"
    }
   },
   "outputs": [
    {
     "data": {
      "text/html": [
       "<div>\n",
       "<style scoped>\n",
       "    .dataframe tbody tr th:only-of-type {\n",
       "        vertical-align: middle;\n",
       "    }\n",
       "\n",
       "    .dataframe tbody tr th {\n",
       "        vertical-align: top;\n",
       "    }\n",
       "\n",
       "    .dataframe thead th {\n",
       "        text-align: right;\n",
       "    }\n",
       "</style>\n",
       "<table border=\"1\" class=\"dataframe\">\n",
       "  <thead>\n",
       "    <tr style=\"text-align: right;\">\n",
       "      <th></th>\n",
       "      <th>count</th>\n",
       "      <th>mean</th>\n",
       "      <th>std</th>\n",
       "      <th>min</th>\n",
       "      <th>25%</th>\n",
       "      <th>50%</th>\n",
       "      <th>75%</th>\n",
       "      <th>max</th>\n",
       "    </tr>\n",
       "  </thead>\n",
       "  <tbody>\n",
       "    <tr>\n",
       "      <th>review-label</th>\n",
       "      <td>278100.0</td>\n",
       "      <td>4.40973</td>\n",
       "      <td>1.178112</td>\n",
       "      <td>1.0</td>\n",
       "      <td>4.0</td>\n",
       "      <td>5.0</td>\n",
       "      <td>5.0</td>\n",
       "      <td>5.0</td>\n",
       "    </tr>\n",
       "  </tbody>\n",
       "</table>\n",
       "</div>"
      ],
      "text/plain": [
       "                 count     mean       std  min  25%  50%  75%  max\n",
       "review-label  278100.0  4.40973  1.178112  1.0  4.0  5.0  5.0  5.0"
      ]
     },
     "execution_count": 5,
     "metadata": {},
     "output_type": "execute_result"
    }
   ],
   "source": [
    "(df[['review-label']].describe().transpose())"
   ]
  },
  {
   "cell_type": "code",
   "execution_count": 6,
   "metadata": {
    "execution": {
     "iopub.execute_input": "2024-07-19T10:34:56.881516Z",
     "iopub.status.busy": "2024-07-19T10:34:56.881102Z",
     "iopub.status.idle": "2024-07-19T10:35:02.532644Z",
     "shell.execute_reply": "2024-07-19T10:35:02.531181Z",
     "shell.execute_reply.started": "2024-07-19T10:34:56.881480Z"
    }
   },
   "outputs": [
    {
     "data": {
      "image/png": "[encoded data removed]",
      "text/plain": [
       "<Figure size 432x288 with 1 Axes>"
      ]
     },
     "metadata": {
      "needs_background": "light"
     },
     "output_type": "display_data"
    }
   ],
   "source": [
    "(df[['review-label']].plot(kind='kde'));"
   ]
  },
  {
   "cell_type": "markdown",
   "metadata": {},
   "source": [
    "## EDA"
   ]
  },
  {
   "cell_type": "code",
   "execution_count": 7,
   "metadata": {
    "execution": {
     "iopub.execute_input": "2024-07-19T10:35:02.535016Z",
     "iopub.status.busy": "2024-07-19T10:35:02.534562Z",
     "iopub.status.idle": "2024-07-19T10:35:02.544724Z",
     "shell.execute_reply": "2024-07-19T10:35:02.541135Z",
     "shell.execute_reply.started": "2024-07-19T10:35:02.534976Z"
    }
   },
   "outputs": [],
   "source": [
    "col_selection = ['title', 'review-label']"
   ]
  },
  {
   "cell_type": "code",
   "execution_count": 8,
   "metadata": {
    "execution": {
     "iopub.execute_input": "2024-07-19T10:35:02.547564Z",
     "iopub.status.busy": "2024-07-19T10:35:02.547032Z",
     "iopub.status.idle": "2024-07-19T10:35:02.639337Z",
     "shell.execute_reply": "2024-07-19T10:35:02.637746Z",
     "shell.execute_reply.started": "2024-07-19T10:35:02.547514Z"
    }
   },
   "outputs": [
    {
     "name": "stdout",
     "output_type": "stream",
     "text": [
      "<class 'pandas.core.frame.DataFrame'>\n",
      "RangeIndex: 278100 entries, 0 to 278099\n",
      "Data columns (total 2 columns):\n",
      " #   Column        Non-Null Count   Dtype \n",
      "---  ------        --------------   ----- \n",
      " 0   title         278091 non-null  object\n",
      " 1   review-label  278100 non-null  int64 \n",
      "dtypes: int64(1), object(1)\n",
      "memory usage: 4.2+ MB\n"
     ]
    }
   ],
   "source": [
    "df[col_selection].info()"
   ]
  },
  {
   "cell_type": "code",
   "execution_count": 9,
   "metadata": {
    "execution": {
     "iopub.execute_input": "2024-07-19T10:35:02.641966Z",
     "iopub.status.busy": "2024-07-19T10:35:02.641347Z",
     "iopub.status.idle": "2024-07-19T10:35:02.822203Z",
     "shell.execute_reply": "2024-07-19T10:35:02.820729Z",
     "shell.execute_reply.started": "2024-07-19T10:35:02.641897Z"
    }
   },
   "outputs": [
    {
     "data": {
      "text/html": [
       "<div>\n",
       "<style scoped>\n",
       "    .dataframe tbody tr th:only-of-type {\n",
       "        vertical-align: middle;\n",
       "    }\n",
       "\n",
       "    .dataframe tbody tr th {\n",
       "        vertical-align: top;\n",
       "    }\n",
       "\n",
       "    .dataframe thead th {\n",
       "        text-align: right;\n",
       "    }\n",
       "</style>\n",
       "<table border=\"1\" class=\"dataframe\">\n",
       "  <thead>\n",
       "    <tr style=\"text-align: right;\">\n",
       "      <th></th>\n",
       "      <th>title</th>\n",
       "      <th>review-label</th>\n",
       "    </tr>\n",
       "  </thead>\n",
       "  <tbody>\n",
       "    <tr>\n",
       "      <th>0</th>\n",
       "      <td>Great help with lost order</td>\n",
       "      <td>5</td>\n",
       "    </tr>\n",
       "    <tr>\n",
       "      <th>1</th>\n",
       "      <td>I ordered the wrong size tee and hadÃ¯Â¿Â½Ã¯Â¿...</td>\n",
       "      <td>5</td>\n",
       "    </tr>\n",
       "    <tr>\n",
       "      <th>2</th>\n",
       "      <td>These guys offer the best customerÃ¯Â¿Â½Ã¯Â¿Â½...</td>\n",
       "      <td>5</td>\n",
       "    </tr>\n",
       "    <tr>\n",
       "      <th>3</th>\n",
       "      <td>Good Stuff</td>\n",
       "      <td>5</td>\n",
       "    </tr>\n",
       "    <tr>\n",
       "      <th>4</th>\n",
       "      <td>My order arrived in a good timelyÃ¯Â¿Â½Ã¯Â¿Â½Ã...</td>\n",
       "      <td>4</td>\n",
       "    </tr>\n",
       "    <tr>\n",
       "      <th>5</th>\n",
       "      <td>Always top notch</td>\n",
       "      <td>5</td>\n",
       "    </tr>\n",
       "    <tr>\n",
       "      <th>6</th>\n",
       "      <td>Recent review</td>\n",
       "      <td>4</td>\n",
       "    </tr>\n",
       "    <tr>\n",
       "      <th>7</th>\n",
       "      <td>Great communication</td>\n",
       "      <td>5</td>\n",
       "    </tr>\n",
       "    <tr>\n",
       "      <th>8</th>\n",
       "      <td>Awesome</td>\n",
       "      <td>5</td>\n",
       "    </tr>\n",
       "    <tr>\n",
       "      <th>9</th>\n",
       "      <td>Wonderful quality T-shirts for anÃ¯Â¿Â½Ã¯Â¿Â½Ã...</td>\n",
       "      <td>5</td>\n",
       "    </tr>\n",
       "    <tr>\n",
       "      <th>10</th>\n",
       "      <td>I love the shirts</td>\n",
       "      <td>3</td>\n",
       "    </tr>\n",
       "    <tr>\n",
       "      <th>11</th>\n",
       "      <td>The tee shirt is wonderful</td>\n",
       "      <td>5</td>\n",
       "    </tr>\n",
       "    <tr>\n",
       "      <th>12</th>\n",
       "      <td>All my tees come from TeePublic</td>\n",
       "      <td>5</td>\n",
       "    </tr>\n",
       "    <tr>\n",
       "      <th>13</th>\n",
       "      <td>Customer service was first rate but theÃ¯Â¿Â½Ã...</td>\n",
       "      <td>4</td>\n",
       "    </tr>\n",
       "    <tr>\n",
       "      <th>14</th>\n",
       "      <td>Very pleased with new &amp; improved fit of V-neck!</td>\n",
       "      <td>5</td>\n",
       "    </tr>\n",
       "    <tr>\n",
       "      <th>15</th>\n",
       "      <td>I loved the product but they run small !</td>\n",
       "      <td>4</td>\n",
       "    </tr>\n",
       "    <tr>\n",
       "      <th>16</th>\n",
       "      <td>Wish the yes shirt material wasnÃ¯Â¿Â½Ã¯Â¿Â½Ã¯...</td>\n",
       "      <td>3</td>\n",
       "    </tr>\n",
       "    <tr>\n",
       "      <th>17</th>\n",
       "      <td>Very happy with the quality of theÃ¯Â¿Â½Ã¯Â¿Â½...</td>\n",
       "      <td>5</td>\n",
       "    </tr>\n",
       "    <tr>\n",
       "      <th>18</th>\n",
       "      <td>Overall the merchandise was great butÃ¯Â¿Â½Ã¯Â...</td>\n",
       "      <td>4</td>\n",
       "    </tr>\n",
       "    <tr>\n",
       "      <th>19</th>\n",
       "      <td>great customer service</td>\n",
       "      <td>5</td>\n",
       "    </tr>\n",
       "    <tr>\n",
       "      <th>20</th>\n",
       "      <td>Tshirt designs unique and innovative</td>\n",
       "      <td>4</td>\n",
       "    </tr>\n",
       "    <tr>\n",
       "      <th>21</th>\n",
       "      <td>great quality</td>\n",
       "      <td>4</td>\n",
       "    </tr>\n",
       "    <tr>\n",
       "      <th>22</th>\n",
       "      <td>You did everything right</td>\n",
       "      <td>5</td>\n",
       "    </tr>\n",
       "    <tr>\n",
       "      <th>23</th>\n",
       "      <td>I did not receive my purchase and whenÃ¯Â¿Â½Ã¯...</td>\n",
       "      <td>1</td>\n",
       "    </tr>\n",
       "    <tr>\n",
       "      <th>24</th>\n",
       "      <td>Great experience. Check size</td>\n",
       "      <td>4</td>\n",
       "    </tr>\n",
       "  </tbody>\n",
       "</table>\n",
       "</div>"
      ],
      "text/plain": [
       "                                                title  review-label\n",
       "0                          Great help with lost order             5\n",
       "1   I ordered the wrong size tee and hadÃ¯Â¿Â½Ã¯Â¿...             5\n",
       "2   These guys offer the best customerÃ¯Â¿Â½Ã¯Â¿Â½...             5\n",
       "3                                          Good Stuff             5\n",
       "4   My order arrived in a good timelyÃ¯Â¿Â½Ã¯Â¿Â½Ã...             4\n",
       "5                                    Always top notch             5\n",
       "6                                       Recent review             4\n",
       "7                                 Great communication             5\n",
       "8                                             Awesome             5\n",
       "9   Wonderful quality T-shirts for anÃ¯Â¿Â½Ã¯Â¿Â½Ã...             5\n",
       "10                                  I love the shirts             3\n",
       "11                         The tee shirt is wonderful             5\n",
       "12                    All my tees come from TeePublic             5\n",
       "13  Customer service was first rate but theÃ¯Â¿Â½Ã...             4\n",
       "14    Very pleased with new & improved fit of V-neck!             5\n",
       "15           I loved the product but they run small !             4\n",
       "16  Wish the yes shirt material wasnÃ¯Â¿Â½Ã¯Â¿Â½Ã¯...             3\n",
       "17  Very happy with the quality of theÃ¯Â¿Â½Ã¯Â¿Â½...             5\n",
       "18  Overall the merchandise was great butÃ¯Â¿Â½Ã¯Â...             4\n",
       "19                             great customer service             5\n",
       "20               Tshirt designs unique and innovative             4\n",
       "21                                      great quality             4\n",
       "22                           You did everything right             5\n",
       "23  I did not receive my purchase and whenÃ¯Â¿Â½Ã¯...             1\n",
       "24                       Great experience. Check size             4"
      ]
     },
     "execution_count": 9,
     "metadata": {},
     "output_type": "execute_result"
    }
   ],
   "source": [
    "(df[col_selection].dropna().isnull().sum())\n",
    "(df[col_selection].isnull().sum())\n",
    "(df[col_selection].head(25))"
   ]
  },
  {
   "cell_type": "code",
   "execution_count": 10,
   "metadata": {
    "execution": {
     "iopub.execute_input": "2024-07-19T10:35:02.824347Z",
     "iopub.status.busy": "2024-07-19T10:35:02.823930Z",
     "iopub.status.idle": "2024-07-19T10:35:03.191478Z",
     "shell.execute_reply": "2024-07-19T10:35:03.190128Z",
     "shell.execute_reply.started": "2024-07-19T10:35:02.824311Z"
    }
   },
   "outputs": [
    {
     "data": {
      "text/html": [
       "<div>\n",
       "<style scoped>\n",
       "    .dataframe tbody tr th:only-of-type {\n",
       "        vertical-align: middle;\n",
       "    }\n",
       "\n",
       "    .dataframe tbody tr th {\n",
       "        vertical-align: top;\n",
       "    }\n",
       "\n",
       "    .dataframe thead th {\n",
       "        text-align: right;\n",
       "    }\n",
       "</style>\n",
       "<table border=\"1\" class=\"dataframe\">\n",
       "  <thead>\n",
       "    <tr style=\"text-align: right;\">\n",
       "      <th></th>\n",
       "      <th>title</th>\n",
       "      <th>review-label</th>\n",
       "    </tr>\n",
       "  </thead>\n",
       "  <tbody>\n",
       "    <tr>\n",
       "      <th>0</th>\n",
       "      <td>Great help with lost order</td>\n",
       "      <td>5</td>\n",
       "    </tr>\n",
       "    <tr>\n",
       "      <th>1</th>\n",
       "      <td>I ordered the wrong size tee and hadÃ¯Â¿Â½Ã¯Â¿...</td>\n",
       "      <td>5</td>\n",
       "    </tr>\n",
       "    <tr>\n",
       "      <th>2</th>\n",
       "      <td>These guys offer the best customerÃ¯Â¿Â½Ã¯Â¿Â½...</td>\n",
       "      <td>5</td>\n",
       "    </tr>\n",
       "    <tr>\n",
       "      <th>3</th>\n",
       "      <td>Good Stuff</td>\n",
       "      <td>5</td>\n",
       "    </tr>\n",
       "    <tr>\n",
       "      <th>4</th>\n",
       "      <td>My order arrived in a good timelyÃ¯Â¿Â½Ã¯Â¿Â½Ã...</td>\n",
       "      <td>4</td>\n",
       "    </tr>\n",
       "    <tr>\n",
       "      <th>5</th>\n",
       "      <td>Always top notch</td>\n",
       "      <td>5</td>\n",
       "    </tr>\n",
       "    <tr>\n",
       "      <th>6</th>\n",
       "      <td>Recent review</td>\n",
       "      <td>4</td>\n",
       "    </tr>\n",
       "    <tr>\n",
       "      <th>7</th>\n",
       "      <td>Great communication</td>\n",
       "      <td>5</td>\n",
       "    </tr>\n",
       "    <tr>\n",
       "      <th>8</th>\n",
       "      <td>Awesome</td>\n",
       "      <td>5</td>\n",
       "    </tr>\n",
       "    <tr>\n",
       "      <th>9</th>\n",
       "      <td>Wonderful quality T-shirts for anÃ¯Â¿Â½Ã¯Â¿Â½Ã...</td>\n",
       "      <td>5</td>\n",
       "    </tr>\n",
       "  </tbody>\n",
       "</table>\n",
       "</div>"
      ],
      "text/plain": [
       "                                               title  review-label\n",
       "0                         Great help with lost order             5\n",
       "1  I ordered the wrong size tee and hadÃ¯Â¿Â½Ã¯Â¿...             5\n",
       "2  These guys offer the best customerÃ¯Â¿Â½Ã¯Â¿Â½...             5\n",
       "3                                         Good Stuff             5\n",
       "4  My order arrived in a good timelyÃ¯Â¿Â½Ã¯Â¿Â½Ã...             4\n",
       "5                                   Always top notch             5\n",
       "6                                      Recent review             4\n",
       "7                                Great communication             5\n",
       "8                                            Awesome             5\n",
       "9  Wonderful quality T-shirts for anÃ¯Â¿Â½Ã¯Â¿Â½Ã...             5"
      ]
     },
     "execution_count": 10,
     "metadata": {},
     "output_type": "execute_result"
    }
   ],
   "source": [
    "(df[col_selection].dropna().assign(title = df.title.str.replace('ï¿½', '')).head(10))"
   ]
  },
  {
   "cell_type": "code",
   "execution_count": 11,
   "metadata": {
    "execution": {
     "iopub.execute_input": "2024-07-19T10:35:03.193816Z",
     "iopub.status.busy": "2024-07-19T10:35:03.193320Z",
     "iopub.status.idle": "2024-07-19T10:35:03.200455Z",
     "shell.execute_reply": "2024-07-19T10:35:03.199002Z",
     "shell.execute_reply.started": "2024-07-19T10:35:03.193774Z"
    }
   },
   "outputs": [],
   "source": [
    "def new_feature(x):\n",
    "    if x < 4:\n",
    "        return 'bad experience'\n",
    "    else:\n",
    "        return 'happy'"
   ]
  },
  {
   "cell_type": "code",
   "execution_count": 12,
   "metadata": {
    "execution": {
     "iopub.execute_input": "2024-07-19T10:35:03.203396Z",
     "iopub.status.busy": "2024-07-19T10:35:03.202787Z",
     "iopub.status.idle": "2024-07-19T10:35:03.626392Z",
     "shell.execute_reply": "2024-07-19T10:35:03.625053Z",
     "shell.execute_reply.started": "2024-07-19T10:35:03.203342Z"
    }
   },
   "outputs": [
    {
     "data": {
      "text/html": [
       "<div>\n",
       "<style scoped>\n",
       "    .dataframe tbody tr th:only-of-type {\n",
       "        vertical-align: middle;\n",
       "    }\n",
       "\n",
       "    .dataframe tbody tr th {\n",
       "        vertical-align: top;\n",
       "    }\n",
       "\n",
       "    .dataframe thead th {\n",
       "        text-align: right;\n",
       "    }\n",
       "</style>\n",
       "<table border=\"1\" class=\"dataframe\">\n",
       "  <thead>\n",
       "    <tr style=\"text-align: right;\">\n",
       "      <th></th>\n",
       "      <th>title</th>\n",
       "      <th>review-label</th>\n",
       "      <th>label</th>\n",
       "    </tr>\n",
       "  </thead>\n",
       "  <tbody>\n",
       "    <tr>\n",
       "      <th>0</th>\n",
       "      <td>Great help with lost order</td>\n",
       "      <td>5</td>\n",
       "      <td>happy</td>\n",
       "    </tr>\n",
       "    <tr>\n",
       "      <th>1</th>\n",
       "      <td>I ordered the wrong size tee and hadÃ¯Â¿Â½Ã¯Â¿...</td>\n",
       "      <td>5</td>\n",
       "      <td>happy</td>\n",
       "    </tr>\n",
       "    <tr>\n",
       "      <th>2</th>\n",
       "      <td>These guys offer the best customerÃ¯Â¿Â½Ã¯Â¿Â½...</td>\n",
       "      <td>5</td>\n",
       "      <td>happy</td>\n",
       "    </tr>\n",
       "    <tr>\n",
       "      <th>3</th>\n",
       "      <td>Good Stuff</td>\n",
       "      <td>5</td>\n",
       "      <td>happy</td>\n",
       "    </tr>\n",
       "    <tr>\n",
       "      <th>4</th>\n",
       "      <td>My order arrived in a good timelyÃ¯Â¿Â½Ã¯Â¿Â½Ã...</td>\n",
       "      <td>4</td>\n",
       "      <td>happy</td>\n",
       "    </tr>\n",
       "    <tr>\n",
       "      <th>5</th>\n",
       "      <td>Always top notch</td>\n",
       "      <td>5</td>\n",
       "      <td>happy</td>\n",
       "    </tr>\n",
       "    <tr>\n",
       "      <th>6</th>\n",
       "      <td>Recent review</td>\n",
       "      <td>4</td>\n",
       "      <td>happy</td>\n",
       "    </tr>\n",
       "    <tr>\n",
       "      <th>7</th>\n",
       "      <td>Great communication</td>\n",
       "      <td>5</td>\n",
       "      <td>happy</td>\n",
       "    </tr>\n",
       "    <tr>\n",
       "      <th>8</th>\n",
       "      <td>Awesome</td>\n",
       "      <td>5</td>\n",
       "      <td>happy</td>\n",
       "    </tr>\n",
       "    <tr>\n",
       "      <th>9</th>\n",
       "      <td>Wonderful quality T-shirts for anÃ¯Â¿Â½Ã¯Â¿Â½Ã...</td>\n",
       "      <td>5</td>\n",
       "      <td>happy</td>\n",
       "    </tr>\n",
       "  </tbody>\n",
       "</table>\n",
       "</div>"
      ],
      "text/plain": [
       "                                               title  review-label  label\n",
       "0                         Great help with lost order             5  happy\n",
       "1  I ordered the wrong size tee and hadÃ¯Â¿Â½Ã¯Â¿...             5  happy\n",
       "2  These guys offer the best customerÃ¯Â¿Â½Ã¯Â¿Â½...             5  happy\n",
       "3                                         Good Stuff             5  happy\n",
       "4  My order arrived in a good timelyÃ¯Â¿Â½Ã¯Â¿Â½Ã...             4  happy\n",
       "5                                   Always top notch             5  happy\n",
       "6                                      Recent review             4  happy\n",
       "7                                Great communication             5  happy\n",
       "8                                            Awesome             5  happy\n",
       "9  Wonderful quality T-shirts for anÃ¯Â¿Â½Ã¯Â¿Â½Ã...             5  happy"
      ]
     },
     "execution_count": 12,
     "metadata": {},
     "output_type": "execute_result"
    }
   ],
   "source": [
    "(df[col_selection].dropna().assign(title = df.title.str.replace('ï¿½', ''),label = df['review-label'].apply(new_feature)).head(10))"
   ]
  },
  {
   "cell_type": "code",
   "execution_count": 13,
   "metadata": {
    "execution": {
     "iopub.execute_input": "2024-07-19T10:35:03.631720Z",
     "iopub.status.busy": "2024-07-19T10:35:03.631212Z",
     "iopub.status.idle": "2024-07-19T10:35:03.639352Z",
     "shell.execute_reply": "2024-07-19T10:35:03.637842Z",
     "shell.execute_reply.started": "2024-07-19T10:35:03.631682Z"
    }
   },
   "outputs": [],
   "source": [
    "def transformed_data(data):\n",
    "    col_selection = ['title', 'review-label']\n",
    "    return (df[col_selection].dropna().assign(title = df.title.str.replace('ï¿½', ''),\n",
    "                            label = df['review-label'].apply(new_feature)))"
   ]
  },
  {
   "cell_type": "markdown",
   "metadata": {},
   "source": [
    "## Visualisation"
   ]
  },
  {
   "cell_type": "code",
   "execution_count": 14,
   "metadata": {
    "execution": {
     "iopub.execute_input": "2024-07-19T10:35:03.641989Z",
     "iopub.status.busy": "2024-07-19T10:35:03.641452Z",
     "iopub.status.idle": "2024-07-19T10:35:04.554405Z",
     "shell.execute_reply": "2024-07-19T10:35:04.552954Z",
     "shell.execute_reply.started": "2024-07-19T10:35:03.641943Z"
    }
   },
   "outputs": [
    {
     "data": {
      "image/png": "[encoded data removed]",
      "text/plain": [
       "<Figure size 432x288 with 1 Axes>"
      ]
     },
     "metadata": {
      "needs_background": "light"
     },
     "output_type": "display_data"
    }
   ],
   "source": [
    "df_transformed = transformed_data(df)\n",
    "sns.countplot(data=df_transformed, x = 'label');"
   ]
  },
  {
   "cell_type": "markdown",
   "metadata": {},
   "source": [
    "## Modeling"
   ]
  },
  {
   "cell_type": "code",
   "execution_count": 15,
   "metadata": {
    "execution": {
     "iopub.execute_input": "2024-07-19T10:35:04.557240Z",
     "iopub.status.busy": "2024-07-19T10:35:04.556582Z",
     "iopub.status.idle": "2024-07-19T10:35:04.669330Z",
     "shell.execute_reply": "2024-07-19T10:35:04.667919Z",
     "shell.execute_reply.started": "2024-07-19T10:35:04.557187Z"
    }
   },
   "outputs": [],
   "source": [
    "X = df_transformed.title\n",
    "y = df_transformed.label\n",
    "\n",
    "X_train, X_test, y_train, y_test = train_test_split(X, y, test_size = 0.2, random_state = 42)"
   ]
  },
  {
   "cell_type": "code",
   "execution_count": 16,
   "metadata": {
    "execution": {
     "iopub.execute_input": "2024-07-19T10:35:04.671900Z",
     "iopub.status.busy": "2024-07-19T10:35:04.671308Z",
     "iopub.status.idle": "2024-07-19T10:35:07.541919Z",
     "shell.execute_reply": "2024-07-19T10:35:07.540111Z",
     "shell.execute_reply.started": "2024-07-19T10:35:04.671841Z"
    }
   },
   "outputs": [
    {
     "data": {
      "text/plain": [
       "TfidfVectorizer(stop_words='english')"
      ]
     },
     "execution_count": 16,
     "metadata": {},
     "output_type": "execute_result"
    }
   ],
   "source": [
    "tfidf = TfidfVectorizer(stop_words='english')\n",
    "tfidf.fit(X_train)"
   ]
  },
  {
   "cell_type": "code",
   "execution_count": 17,
   "metadata": {
    "execution": {
     "iopub.execute_input": "2024-07-19T10:35:07.545010Z",
     "iopub.status.busy": "2024-07-19T10:35:07.544034Z",
     "iopub.status.idle": "2024-07-19T10:35:11.240359Z",
     "shell.execute_reply": "2024-07-19T10:35:11.238874Z",
     "shell.execute_reply.started": "2024-07-19T10:35:07.544951Z"
    }
   },
   "outputs": [],
   "source": [
    "X_train_tfidf = tfidf.transform(X_train)\n",
    "X_test_tfidf = tfidf.transform(X_test)"
   ]
  },
  {
   "cell_type": "code",
   "execution_count": 18,
   "metadata": {
    "execution": {
     "iopub.execute_input": "2024-07-19T10:35:11.242915Z",
     "iopub.status.busy": "2024-07-19T10:35:11.242386Z",
     "iopub.status.idle": "2024-07-19T10:35:11.250259Z",
     "shell.execute_reply": "2024-07-19T10:35:11.248753Z",
     "shell.execute_reply.started": "2024-07-19T10:35:11.242861Z"
    }
   },
   "outputs": [],
   "source": [
    "def report(model):\n",
    "        preds = model.fit(X_train_tfidf, y_train).predict(X_test_tfidf)\n",
    "        print(classification_report(y_test, preds))"
   ]
  },
  {
   "cell_type": "code",
   "execution_count": 19,
   "metadata": {
    "execution": {
     "iopub.execute_input": "2024-07-19T10:35:11.252950Z",
     "iopub.status.busy": "2024-07-19T10:35:11.252357Z",
     "iopub.status.idle": "2024-07-19T10:35:20.256416Z",
     "shell.execute_reply": "2024-07-19T10:35:20.254758Z",
     "shell.execute_reply.started": "2024-07-19T10:35:11.252907Z"
    }
   },
   "outputs": [
    {
     "name": "stdout",
     "output_type": "stream",
     "text": [
      "                precision    recall  f1-score   support\n",
      "\n",
      "bad experience       0.77      0.56      0.65      9187\n",
      "         happy       0.92      0.97      0.94     46432\n",
      "\n",
      "      accuracy                           0.90     55619\n",
      "     macro avg       0.84      0.76      0.80     55619\n",
      "  weighted avg       0.89      0.90      0.89     55619\n",
      "\n"
     ]
    }
   ],
   "source": [
    "lvc = LinearSVC(max_iter=1000)\n",
    "report(lvc)"
   ]
  },
  {
   "cell_type": "code",
   "execution_count": 20,
   "metadata": {
    "execution": {
     "iopub.execute_input": "2024-07-19T10:35:20.258837Z",
     "iopub.status.busy": "2024-07-19T10:35:20.258327Z",
     "iopub.status.idle": "2024-07-19T10:35:31.674383Z",
     "shell.execute_reply": "2024-07-19T10:35:31.673038Z",
     "shell.execute_reply.started": "2024-07-19T10:35:20.258789Z"
    }
   },
   "outputs": [],
   "source": [
    "pipe = Pipeline([('tfidf', TfidfVectorizer()),\n",
    "                ('svc', LinearSVC())])\n",
    "\n",
    "pipe.fit(X, y)\n",
    "data = pipe.predict(X)\n",
    "data = pd.DataFrame(data)"
   ]
  },
  {
   "cell_type": "code",
   "execution_count": 21,
   "metadata": {
    "execution": {
     "iopub.execute_input": "2024-07-19T10:35:31.677090Z",
     "iopub.status.busy": "2024-07-19T10:35:31.676560Z",
     "iopub.status.idle": "2024-07-19T10:35:31.716600Z",
     "shell.execute_reply": "2024-07-19T10:35:31.715197Z",
     "shell.execute_reply.started": "2024-07-19T10:35:31.677048Z"
    }
   },
   "outputs": [
    {
     "data": {
      "text/html": [
       "<div>\n",
       "<style scoped>\n",
       "    .dataframe tbody tr th:only-of-type {\n",
       "        vertical-align: middle;\n",
       "    }\n",
       "\n",
       "    .dataframe tbody tr th {\n",
       "        vertical-align: top;\n",
       "    }\n",
       "\n",
       "    .dataframe thead th {\n",
       "        text-align: right;\n",
       "    }\n",
       "</style>\n",
       "<table border=\"1\" class=\"dataframe\">\n",
       "  <thead>\n",
       "    <tr style=\"text-align: right;\">\n",
       "      <th></th>\n",
       "      <th>title</th>\n",
       "      <th>review-label</th>\n",
       "      <th>label</th>\n",
       "      <th>predictions</th>\n",
       "    </tr>\n",
       "  </thead>\n",
       "  <tbody>\n",
       "    <tr>\n",
       "      <th>105439</th>\n",
       "      <td>The Belmont coffee cup had the logoÃ¯Â¿Â½Ã¯Â¿Â...</td>\n",
       "      <td>4</td>\n",
       "      <td>happy</td>\n",
       "      <td>happy</td>\n",
       "    </tr>\n",
       "    <tr>\n",
       "      <th>33795</th>\n",
       "      <td>Amazing quality and shipped on time!!</td>\n",
       "      <td>5</td>\n",
       "      <td>happy</td>\n",
       "      <td>happy</td>\n",
       "    </tr>\n",
       "    <tr>\n",
       "      <th>174217</th>\n",
       "      <td>The graphics are great</td>\n",
       "      <td>4</td>\n",
       "      <td>happy</td>\n",
       "      <td>happy</td>\n",
       "    </tr>\n",
       "    <tr>\n",
       "      <th>160822</th>\n",
       "      <td>Received t shirt quickly</td>\n",
       "      <td>5</td>\n",
       "      <td>happy</td>\n",
       "      <td>happy</td>\n",
       "    </tr>\n",
       "    <tr>\n",
       "      <th>217630</th>\n",
       "      <td>My button was great</td>\n",
       "      <td>4</td>\n",
       "      <td>happy</td>\n",
       "      <td>happy</td>\n",
       "    </tr>\n",
       "    <tr>\n",
       "      <th>71082</th>\n",
       "      <td>Shirt fits great</td>\n",
       "      <td>5</td>\n",
       "      <td>happy</td>\n",
       "      <td>happy</td>\n",
       "    </tr>\n",
       "    <tr>\n",
       "      <th>66252</th>\n",
       "      <td>Great customer service</td>\n",
       "      <td>5</td>\n",
       "      <td>happy</td>\n",
       "      <td>happy</td>\n",
       "    </tr>\n",
       "    <tr>\n",
       "      <th>272115</th>\n",
       "      <td>Great shirts, great people!</td>\n",
       "      <td>5</td>\n",
       "      <td>happy</td>\n",
       "      <td>happy</td>\n",
       "    </tr>\n",
       "    <tr>\n",
       "      <th>88358</th>\n",
       "      <td>AWESOME</td>\n",
       "      <td>5</td>\n",
       "      <td>happy</td>\n",
       "      <td>happy</td>\n",
       "    </tr>\n",
       "    <tr>\n",
       "      <th>114697</th>\n",
       "      <td>Received shirts</td>\n",
       "      <td>5</td>\n",
       "      <td>happy</td>\n",
       "      <td>bad experience</td>\n",
       "    </tr>\n",
       "  </tbody>\n",
       "</table>\n",
       "</div>"
      ],
      "text/plain": [
       "                                                    title  review-label  \\\n",
       "105439  The Belmont coffee cup had the logoÃ¯Â¿Â½Ã¯Â¿Â...             4   \n",
       "33795               Amazing quality and shipped on time!!             5   \n",
       "174217                             The graphics are great             4   \n",
       "160822                           Received t shirt quickly             5   \n",
       "217630                                My button was great             4   \n",
       "71082                                    Shirt fits great             5   \n",
       "66252                              Great customer service             5   \n",
       "272115                        Great shirts, great people!             5   \n",
       "88358                                             AWESOME             5   \n",
       "114697                                    Received shirts             5   \n",
       "\n",
       "        label     predictions  \n",
       "105439  happy           happy  \n",
       "33795   happy           happy  \n",
       "174217  happy           happy  \n",
       "160822  happy           happy  \n",
       "217630  happy           happy  \n",
       "71082   happy           happy  \n",
       "66252   happy           happy  \n",
       "272115  happy           happy  \n",
       "88358   happy           happy  \n",
       "114697  happy  bad experience  "
      ]
     },
     "execution_count": 21,
     "metadata": {},
     "output_type": "execute_result"
    }
   ],
   "source": [
    "df_transformed['predictions'] = data\n",
    "df_transformed.sample(10)"
   ]
  }
 ],
 "metadata": {
  "kaggle": {
   "accelerator": "none",
   "dataSources": [
    {
     "datasetId": 4145649,
     "sourceId": 7174394,
     "sourceType": "datasetVersion"
    }
   ],
   "dockerImageVersionId": 30635,
   "isGpuEnabled": false,
   "isInternetEnabled": true,
   "language": "python",
   "sourceType": "notebook"
  },
  "kernelspec": {
   "display_name": "Python 3 (ipykernel)",
   "language": "python",
   "name": "python3"
  },
  "language_info": {
   "codemirror_mode": {
    "name": "ipython",
    "version": 3
   },
   "file_extension": ".py",
   "mimetype": "text/x-python",
   "name": "python",
   "nbconvert_exporter": "python",
   "pygments_lexer": "ipython3",
   "version": "3.9.12"
  }
 },
 "nbformat": 4,
 "nbformat_minor": 4
}
